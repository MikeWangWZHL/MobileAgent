{
 "cells": [
  {
   "cell_type": "code",
   "execution_count": 11,
   "metadata": {},
   "outputs": [],
   "source": [
    "from glob import glob\n",
    "import os\n",
    "import json\n",
    "# root = \"/Users/wangz3/Desktop/vlm_agent_project/MobileAgent/Mobile-Agent-v2/logs/mobile_agent_v2\"\n",
    "root = \"/Users/wangz3/Desktop/vlm_agent_project/MobileAgent/Mobile-Agent-v2/logs/agent_E\"\n",
    "scenarios = glob(os.path.join(root, \"*\"))\n",
    "for scenario in scenarios:\n",
    "    tasks = glob(os.path.join(scenario, \"*\"))\n",
    "    tasks = sorted(tasks, key=lambda x: os.path.basename(x))\n",
    "    for log_dir in tasks:\n",
    "        steps = json.load(open(os.path.join(log_dir, \"steps.json\")))\n",
    "        for step in steps:\n",
    "            if step['operation'] == 'action':\n",
    "                if \"Chrome\" in step['action_object']:\n",
    "                    print(\"task: \", log_dir)\n",
    "                    break\n",
    "        # last_step = steps[-1]\n",
    "        # if last_step[\"operation\"] == 'finish':\n",
    "        #     if last_step['finish_flag'] == 'max_repetitive_actions':\n",
    "        #         print(\"task: \", os.path.basename(log_dir))\n",
    "        #         print(\"max_repetitive_actions:\", last_step)\n",
    "        # else:\n",
    "        #     print(\"task: \", os.path.basename(log_dir))\n",
    "        #     print(\"ERROR existing finish_flag: \", last_step)"
   ]
  },
  {
   "cell_type": "code",
   "execution_count": null,
   "metadata": {},
   "outputs": [],
   "source": []
  }
 ],
 "metadata": {
  "kernelspec": {
   "display_name": "vlm",
   "language": "python",
   "name": "python3"
  },
  "language_info": {
   "codemirror_mode": {
    "name": "ipython",
    "version": 3
   },
   "file_extension": ".py",
   "mimetype": "text/x-python",
   "name": "python",
   "nbconvert_exporter": "python",
   "pygments_lexer": "ipython3",
   "version": "3.10.15"
  }
 },
 "nbformat": 4,
 "nbformat_minor": 2
}
