{
 "cells": [
  {
   "cell_type": "code",
   "execution_count": 1,
   "metadata": {},
   "outputs": [
    {
     "name": "stderr",
     "output_type": "stream",
     "text": [
      "/Users/wangz3/miniconda3/envs/vlm/lib/python3.10/site-packages/tqdm/auto.py:21: TqdmWarning: IProgress not found. Please update jupyter and ipywidgets. See https://ipywidgets.readthedocs.io/en/stable/user_install.html\n",
      "  from .autonotebook import tqdm as notebook_tqdm\n",
      "Downloading readme: 100%|██████████| 577/577 [00:00<00:00, 3.38MB/s]\n",
      "Downloading data: 100%|██████████| 36.1k/36.1k [00:00<00:00, 715kB/s]\n",
      "Downloading data: 100%|██████████| 62.3k/62.3k [00:00<00:00, 1.40MB/s]\n",
      "Generating validation split: 33 examples [00:00, 2290.41 examples/s]\n",
      "Generating test split: 181 examples [00:00, 31114.76 examples/s]\n"
     ]
    }
   ],
   "source": [
    "from datasets import load_dataset\n",
    "\n",
    "ds = load_dataset(\"AssistantBench/AssistantBench\")"
   ]
  },
  {
   "cell_type": "code",
   "execution_count": 3,
   "metadata": {},
   "outputs": [
    {
     "data": {
      "text/plain": [
       "{'id': 'b36ef2d8f2643b80e74a44ce3403f674ecb2aed7fd36afeaa289061a59feef92',\n",
       " 'set': 'dev',\n",
       " 'task': 'Which gyms near Tompkins Square Park (<200m) have fitness classes before 7am?',\n",
       " 'answer': 'CrossFit East River\\nAvea Pilates',\n",
       " 'gold_url': 'https://beastriver.com/schedule\\nhttps://aveapilates.com/book-now-ev/',\n",
       " 'explanation': 'According to Google Mpas there are a few gyma near TSP, including, Body evolution, CrossFit EastRiver, Blink Fitness, and Flying Squirrel Studions. From looking at their schedules on the websites, only CrossFit East River and Avea Pilates has classes before 7 am.',\n",
       " 'metadata': \"{'is_task_duplicated': 'no', 'duplicated_task_id': nan, 'field_of_expertise': nan}\",\n",
       " 'difficulty': 'Hard'}"
      ]
     },
     "execution_count": 3,
     "metadata": {},
     "output_type": "execute_result"
    }
   ],
   "source": [
    "ds['validation'][0]"
   ]
  },
  {
   "cell_type": "code",
   "execution_count": 4,
   "metadata": {},
   "outputs": [
    {
     "data": {
      "text/plain": [
       "{'id': '00505300c5e2055a81f13b097e70c6c17420807397476c173b64be2397963d59',\n",
       " 'set': 'test_general',\n",
       " 'task': 'Which \"SmartLess\" episode does not include the names of the guests in the title?',\n",
       " 'answer': None,\n",
       " 'gold_url': None,\n",
       " 'explanation': None,\n",
       " 'metadata': None,\n",
       " 'difficulty': None}"
      ]
     },
     "execution_count": 4,
     "metadata": {},
     "output_type": "execute_result"
    }
   ],
   "source": [
    "ds['test'][0]"
   ]
  },
  {
   "cell_type": "code",
   "execution_count": null,
   "metadata": {},
   "outputs": [],
   "source": []
  }
 ],
 "metadata": {
  "kernelspec": {
   "display_name": "vlm",
   "language": "python",
   "name": "python3"
  },
  "language_info": {
   "codemirror_mode": {
    "name": "ipython",
    "version": 3
   },
   "file_extension": ".py",
   "mimetype": "text/x-python",
   "name": "python",
   "nbconvert_exporter": "python",
   "pygments_lexer": "ipython3",
   "version": "3.10.15"
  }
 },
 "nbformat": 4,
 "nbformat_minor": 2
}
