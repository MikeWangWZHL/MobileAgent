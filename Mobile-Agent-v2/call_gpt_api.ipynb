{
 "cells": [
  {
   "cell_type": "code",
   "execution_count": 1,
   "metadata": {},
   "outputs": [
    {
     "name": "stdout",
     "output_type": "stream",
     "text": [
      "ChatCompletionMessage(content=\"To find the best reviewed Korean restaurant in your area that is within a 10-minute drive and is open late until 10 pm, we need to follow a systematic process. Here is a breakdown of the concrete requirements, action items, and evaluation criteria:\\n\\n### Requirements:\\n1. **Geographic Proximity**: The restaurant should be within a 10-minute drive from your current location.\\n2. **Cuisine Type**: The restaurant must serve Korean cuisine.\\n3. **Operating Hours**: The restaurant must be open until at least 10 pm.\\n4. **Reviews and Ratings**: The restaurant should have good reviews and high ratings.\\n\\n### Action Items:\\n1. **Identify Your Current Location:**\\n   - Use your phone's location services or manually input your current address for accurate results.\\n\\n2. **Search for Nearby Korean Restaurants:**\\n   - Use a map application or a search engine (e.g., Google Maps, Yelp) to search for Korean restaurants near your location.\\n\\n3. **Apply Driving Distance/Time Filter:**\\n   - Use the application's filter to show only restaurants within a 10-minute drive. This may involve inputting the maximum distance or selecting a radius from your location.\\n\\n4. **Check Operating Hours:**\\n   - Ensure the restaurant is open until at least 10 pm. Many map or review platforms display business hours; check this information for each restaurant candidate.\\n\\n5. **Evaluate Reviews and Ratings:**\\n   - Sort the restaurants by rating and review count. Look for restaurants with high average ratings and a good number of reviews to ensure reliability.\\n\\n6. **Verify Information:**\\n   - Double-check the details on the restaurant’s official website or call them directly to confirm accurate opening hours and their menu focuses on Korean cuisine.\\n\\n### Evaluation Criteria:\\n- **Accuracy**: Verify that the location and distance to the restaurant are correctly calculated to be within a 10-minute drive.\\n- **Cuisine Type**: Ensure the restaurant predominantly serves Korean food.\\n- **Operating Hours**: Confirm that the restaurant is indeed open until at least 10 pm.\\n- **Review Score**: The restaurant should have a favorable rating (e.g., 4 stars and above) and consistent positive reviews from multiple customers.\\n\\nBy following these steps, you will systematically narrow down options to find a suitable Korean restaurant that matches your criteria. Once a few potential restaurants are identified, you can then decide based on personal preferences or additional criteria like the menu or ambiance.\", refusal=None, role='assistant', audio=None, function_call=None, tool_calls=None)\n"
     ]
    }
   ],
   "source": [
    "from openai import OpenAI\n",
    "import os\n",
    "openai_token = open(\"/Users/wangz3/Desktop/vlm_agent_project/MobileAgent/openai_key_taobao\", \"r\").read()\n",
    "os.environ[\"OPENAI_API_KEY\"] = openai_token\n",
    "\n",
    "\n",
    "\n",
    "prompt = \"\"\"## User Instruction ##\n",
    "Find the best reviewed Korean restaurant in my area that is within 10min drive and opens late until 10pm.\n",
    "---\n",
    "Imagine you are a human user that is operating on the phone, decompose the instruction into concrete requirements and action items. Plan your actions step by step and provide a list of criteria on evaluating whether the task is completed.\n",
    "\"\"\"\n",
    "\n",
    "client = OpenAI()\n",
    "\n",
    "completion = client.chat.completions.create(\n",
    "    model=\"gpt-4o\",\n",
    "    messages=[\n",
    "        {\"role\": \"system\", \"content\": \"You are a helpful assistant.\"},\n",
    "        {\n",
    "            \"role\": \"user\",\n",
    "            \"content\": prompt\n",
    "        }\n",
    "    ]\n",
    ")\n",
    "\n",
    "print(completion.choices[0].message)"
   ]
  },
  {
   "cell_type": "code",
   "execution_count": 2,
   "metadata": {},
   "outputs": [
    {
     "name": "stdout",
     "output_type": "stream",
     "text": [
      "To find the best reviewed Korean restaurant in your area that is within a 10-minute drive and is open late until 10 pm, we need to follow a systematic process. Here is a breakdown of the concrete requirements, action items, and evaluation criteria:\n",
      "\n",
      "### Requirements:\n",
      "1. **Geographic Proximity**: The restaurant should be within a 10-minute drive from your current location.\n",
      "2. **Cuisine Type**: The restaurant must serve Korean cuisine.\n",
      "3. **Operating Hours**: The restaurant must be open until at least 10 pm.\n",
      "4. **Reviews and Ratings**: The restaurant should have good reviews and high ratings.\n",
      "\n",
      "### Action Items:\n",
      "1. **Identify Your Current Location:**\n",
      "   - Use your phone's location services or manually input your current address for accurate results.\n",
      "\n",
      "2. **Search for Nearby Korean Restaurants:**\n",
      "   - Use a map application or a search engine (e.g., Google Maps, Yelp) to search for Korean restaurants near your location.\n",
      "\n",
      "3. **Apply Driving Distance/Time Filter:**\n",
      "   - Use the application's filter to show only restaurants within a 10-minute drive. This may involve inputting the maximum distance or selecting a radius from your location.\n",
      "\n",
      "4. **Check Operating Hours:**\n",
      "   - Ensure the restaurant is open until at least 10 pm. Many map or review platforms display business hours; check this information for each restaurant candidate.\n",
      "\n",
      "5. **Evaluate Reviews and Ratings:**\n",
      "   - Sort the restaurants by rating and review count. Look for restaurants with high average ratings and a good number of reviews to ensure reliability.\n",
      "\n",
      "6. **Verify Information:**\n",
      "   - Double-check the details on the restaurant’s official website or call them directly to confirm accurate opening hours and their menu focuses on Korean cuisine.\n",
      "\n",
      "### Evaluation Criteria:\n",
      "- **Accuracy**: Verify that the location and distance to the restaurant are correctly calculated to be within a 10-minute drive.\n",
      "- **Cuisine Type**: Ensure the restaurant predominantly serves Korean food.\n",
      "- **Operating Hours**: Confirm that the restaurant is indeed open until at least 10 pm.\n",
      "- **Review Score**: The restaurant should have a favorable rating (e.g., 4 stars and above) and consistent positive reviews from multiple customers.\n",
      "\n",
      "By following these steps, you will systematically narrow down options to find a suitable Korean restaurant that matches your criteria. Once a few potential restaurants are identified, you can then decide based on personal preferences or additional criteria like the menu or ambiance.\n"
     ]
    }
   ],
   "source": [
    "print(completion.choices[0].message.content)"
   ]
  },
  {
   "cell_type": "code",
   "execution_count": null,
   "metadata": {},
   "outputs": [],
   "source": []
  }
 ],
 "metadata": {
  "kernelspec": {
   "display_name": "vlm",
   "language": "python",
   "name": "python3"
  },
  "language_info": {
   "codemirror_mode": {
    "name": "ipython",
    "version": 3
   },
   "file_extension": ".py",
   "mimetype": "text/x-python",
   "name": "python",
   "nbconvert_exporter": "python",
   "pygments_lexer": "ipython3",
   "version": "3.10.15"
  }
 },
 "nbformat": 4,
 "nbformat_minor": 2
}
